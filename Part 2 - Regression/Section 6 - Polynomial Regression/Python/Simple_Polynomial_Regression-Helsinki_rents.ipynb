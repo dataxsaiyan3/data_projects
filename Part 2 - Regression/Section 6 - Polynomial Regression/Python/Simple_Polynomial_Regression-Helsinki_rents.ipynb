{
 "cells": [
  {
   "cell_type": "markdown",
   "metadata": {
    "colab_type": "text",
    "id": "vN99YjPTDena"
   },
   "source": [
    "# Polynomial Regression"
   ]
  },
  {
   "cell_type": "markdown",
   "metadata": {
    "colab_type": "text",
    "id": "ZIx_naXnDyHd"
   },
   "source": [
    "## Importing the libraries"
   ]
  },
  {
   "cell_type": "code",
   "execution_count": 138,
   "metadata": {
    "colab": {},
    "colab_type": "code",
    "id": "FjnmdyPLD2tS"
   },
   "outputs": [],
   "source": [
    "import numpy as np\n",
    "import matplotlib.pyplot as plt\n",
    "import pandas as pd"
   ]
  },
  {
   "cell_type": "markdown",
   "metadata": {
    "colab_type": "text",
    "id": "6c8YExmOD5x5"
   },
   "source": [
    "## Importing the dataset"
   ]
  },
  {
   "cell_type": "code",
   "execution_count": 139,
   "metadata": {},
   "outputs": [],
   "source": [
    "# Calling 2 diffrent datasets\n",
    "dataset = pd.read_csv('Helsinki_rent_data_july_2020.csv')\n",
    "df = pd.read_csv('Helsinki_rent_data_july_2020.csv')"
   ]
  },
  {
   "cell_type": "code",
   "execution_count": 140,
   "metadata": {},
   "outputs": [
    {
     "data": {
      "text/html": [
       "<div>\n",
       "<style scoped>\n",
       "    .dataframe tbody tr th:only-of-type {\n",
       "        vertical-align: middle;\n",
       "    }\n",
       "\n",
       "    .dataframe tbody tr th {\n",
       "        vertical-align: top;\n",
       "    }\n",
       "\n",
       "    .dataframe thead th {\n",
       "        text-align: right;\n",
       "    }\n",
       "</style>\n",
       "<table border=\"1\" class=\"dataframe\">\n",
       "  <thead>\n",
       "    <tr style=\"text-align: right;\">\n",
       "      <th></th>\n",
       "      <th>ID</th>\n",
       "      <th>HouseType</th>\n",
       "      <th>Size</th>\n",
       "      <th>MonthlyRentals</th>\n",
       "      <th>City</th>\n",
       "      <th>Sauna</th>\n",
       "      <th>Balcony</th>\n",
       "      <th>Address</th>\n",
       "      <th>Latitude</th>\n",
       "      <th>Longitude</th>\n",
       "      <th>Number_Of_Rooms</th>\n",
       "    </tr>\n",
       "  </thead>\n",
       "  <tbody>\n",
       "    <tr>\n",
       "      <th>0</th>\n",
       "      <td>4561</td>\n",
       "      <td>kerrostalo</td>\n",
       "      <td>17.8</td>\n",
       "      <td>295</td>\n",
       "      <td>Helsinki</td>\n",
       "      <td>0</td>\n",
       "      <td>0</td>\n",
       "      <td>Ida Aalbergin, 00400, Helsinki</td>\n",
       "      <td>60.230411</td>\n",
       "      <td>24.900260</td>\n",
       "      <td>1</td>\n",
       "    </tr>\n",
       "    <tr>\n",
       "      <th>1</th>\n",
       "      <td>6711</td>\n",
       "      <td>kerrostalo</td>\n",
       "      <td>17.8</td>\n",
       "      <td>295</td>\n",
       "      <td>Helsinki</td>\n",
       "      <td>0</td>\n",
       "      <td>0</td>\n",
       "      <td>Ida Aalbergin, 00400, Helsinki</td>\n",
       "      <td>60.230411</td>\n",
       "      <td>24.900260</td>\n",
       "      <td>1</td>\n",
       "    </tr>\n",
       "    <tr>\n",
       "      <th>2</th>\n",
       "      <td>16643</td>\n",
       "      <td>kerrostalo</td>\n",
       "      <td>17.8</td>\n",
       "      <td>295</td>\n",
       "      <td>Helsinki</td>\n",
       "      <td>0</td>\n",
       "      <td>0</td>\n",
       "      <td>Ida Aalbergin, 00400, Helsinki</td>\n",
       "      <td>60.230411</td>\n",
       "      <td>24.900260</td>\n",
       "      <td>1</td>\n",
       "    </tr>\n",
       "    <tr>\n",
       "      <th>3</th>\n",
       "      <td>13998</td>\n",
       "      <td>kerrostalo</td>\n",
       "      <td>25.0</td>\n",
       "      <td>350</td>\n",
       "      <td>Helsinki</td>\n",
       "      <td>0</td>\n",
       "      <td>0</td>\n",
       "      <td>Valhallankatu 5.A.1, 00250, Helsinki</td>\n",
       "      <td>60.184918</td>\n",
       "      <td>24.912827</td>\n",
       "      <td>0</td>\n",
       "    </tr>\n",
       "    <tr>\n",
       "      <th>4</th>\n",
       "      <td>7619</td>\n",
       "      <td>kerrostalo</td>\n",
       "      <td>25.0</td>\n",
       "      <td>370</td>\n",
       "      <td>Helsinki</td>\n",
       "      <td>0</td>\n",
       "      <td>0</td>\n",
       "      <td>Valhallankatu 5, 00250, Helsinki</td>\n",
       "      <td>60.184028</td>\n",
       "      <td>24.913289</td>\n",
       "      <td>0</td>\n",
       "    </tr>\n",
       "  </tbody>\n",
       "</table>\n",
       "</div>"
      ],
      "text/plain": [
       "      ID   HouseType  Size  MonthlyRentals      City  Sauna  Balcony  \\\n",
       "0   4561  kerrostalo  17.8             295  Helsinki      0        0   \n",
       "1   6711  kerrostalo  17.8             295  Helsinki      0        0   \n",
       "2  16643  kerrostalo  17.8             295  Helsinki      0        0   \n",
       "3  13998  kerrostalo  25.0             350  Helsinki      0        0   \n",
       "4   7619  kerrostalo  25.0             370  Helsinki      0        0   \n",
       "\n",
       "                                Address   Latitude  Longitude  Number_Of_Rooms  \n",
       "0        Ida Aalbergin, 00400, Helsinki  60.230411  24.900260                1  \n",
       "1        Ida Aalbergin, 00400, Helsinki  60.230411  24.900260                1  \n",
       "2        Ida Aalbergin, 00400, Helsinki  60.230411  24.900260                1  \n",
       "3  Valhallankatu 5.A.1, 00250, Helsinki  60.184918  24.912827                0  \n",
       "4      Valhallankatu 5, 00250, Helsinki  60.184028  24.913289                0  "
      ]
     },
     "execution_count": 140,
     "metadata": {},
     "output_type": "execute_result"
    }
   ],
   "source": [
    "dataset.head(5)"
   ]
  },
  {
   "cell_type": "code",
   "execution_count": 141,
   "metadata": {},
   "outputs": [],
   "source": [
    "# Deleting what is not needed\n",
    "del dataset['City'], dataset['Latitude'], dataset['Longitude'], dataset['Address'], dataset['MonthlyRentals']"
   ]
  },
  {
   "cell_type": "code",
   "execution_count": 142,
   "metadata": {},
   "outputs": [],
   "source": [
    "# Replacing the NAN value with the mean value for both datasets\n",
    "dataset = dataset.fillna(dataset.mean())\n",
    "df = df.fillna(df.mean())\n"
   ]
  },
  {
   "cell_type": "code",
   "execution_count": 143,
   "metadata": {
    "colab": {},
    "colab_type": "code",
    "id": "nQOdXhjXD_AE"
   },
   "outputs": [],
   "source": [
    "# Assigning variables to the x axis and y axis\n",
    "X = dataset.iloc[:, 2].values\n",
    "y = df.iloc[:, 3].values"
   ]
  },
  {
   "cell_type": "code",
   "execution_count": 144,
   "metadata": {},
   "outputs": [
    {
     "name": "stdout",
     "output_type": "stream",
     "text": [
      "[17.8  17.8  17.8  ... 52.14 80.   39.  ]\n"
     ]
    }
   ],
   "source": [
    "print(X)"
   ]
  },
  {
   "cell_type": "code",
   "execution_count": 145,
   "metadata": {},
   "outputs": [],
   "source": [
    "# This code will let you fix this issue 'ValueError: Expected 2D array, got 1D array instead:'\n",
    "\n",
    "X = X.reshape(-1, 1)\n",
    "y = y.reshape(-1, 1)\n",
    "X = X.reshape(-1, 1)\n",
    "y = y.reshape(-1, 1)"
   ]
  },
  {
   "cell_type": "code",
   "execution_count": 146,
   "metadata": {
    "colab": {
     "base_uri": "https://localhost:8080/",
     "height": 35
    },
    "colab_type": "code",
    "id": "2eZ4xxbKEcBk",
    "outputId": "41074f6d-44c7-4a04-fd49-14bda9fb2885"
   },
   "outputs": [],
   "source": [
    "# This code will let you split the data set into trained and tested, test size 20% and train size is 80%\n",
    "from sklearn.model_selection import train_test_split\n",
    "X_train, X_test, y_train, y_test = train_test_split(X, y, test_size = 0.2, random_state = 0)\n"
   ]
  },
  {
   "cell_type": "code",
   "execution_count": 147,
   "metadata": {},
   "outputs": [
    {
     "data": {
      "text/plain": [
       "LinearRegression()"
      ]
     },
     "execution_count": 147,
     "metadata": {},
     "output_type": "execute_result"
    }
   ],
   "source": [
    "# Training the Simple Linear Regression model on the Training set\n",
    "from sklearn.linear_model import LinearRegression\n",
    "lin_reg = LinearRegression()\n",
    "lin_reg.fit(X_train, y_train)\n"
   ]
  },
  {
   "cell_type": "markdown",
   "metadata": {
    "colab_type": "text",
    "id": "Le8SEL-YEOLb"
   },
   "source": [
    "## Training the Linear Regression model on the whole dataset"
   ]
  },
  {
   "cell_type": "code",
   "execution_count": 148,
   "metadata": {},
   "outputs": [
    {
     "name": "stdout",
     "output_type": "stream",
     "text": [
      "[[2314.05 1550.  ]\n",
      " [ 857.01  799.  ]\n",
      " [1500.82 1172.  ]\n",
      " [1283.96  945.  ]\n",
      " [1197.89 1150.  ]\n",
      " [ 904.45 1225.  ]\n",
      " [2327.61 3561.  ]\n",
      " [1527.93 1529.  ]\n",
      " [1107.76  890.  ]\n",
      " [1114.54 1198.  ]\n",
      " [1182.31  800.  ]\n",
      " [1229.75  975.  ]\n",
      " [1012.88 1100.  ]\n",
      " [1039.99  990.  ]\n",
      " [1175.53  980.  ]\n",
      " [1494.05 1096.  ]\n",
      " [1209.41 1349.  ]\n",
      " [1494.05  895.  ]\n",
      " [ 873.28  720.  ]\n",
      " [1229.75 1199.  ]\n",
      " [1087.43  998.  ]\n",
      " [1460.16 1850.  ]\n",
      " [1677.02 2847.  ]\n",
      " [1378.84  999.  ]\n",
      " [1582.15 1350.  ]\n",
      " [1419.5   862.  ]\n",
      " [1128.09 1075.  ]\n",
      " [1256.85 1450.  ]\n",
      " [1202.64 1059.  ]\n",
      " [2436.04 3298.  ]\n",
      " [1243.3   650.  ]\n",
      " [1954.88 2200.  ]\n",
      " [1100.98  952.  ]\n",
      " [ 945.11  790.  ]\n",
      " [ 897.68 1234.  ]\n",
      " [ 843.46  869.  ]\n",
      " [ 863.79  999.  ]\n",
      " [1324.62 1180.  ]\n",
      " [ 857.01  839.  ]\n",
      " [1311.07  959.  ]\n",
      " [1792.23 1200.  ]\n",
      " [1317.85 1350.  ]\n",
      " [1534.71 1222.  ]\n",
      " [1107.76  937.  ]\n",
      " [1283.96  949.  ]\n",
      " [1622.81 1211.  ]\n",
      " [1541.48 1289.  ]\n",
      " [1195.86  971.  ]\n",
      " [2015.87 3900.  ]\n",
      " [1494.05 1499.  ]\n",
      " [1060.32  819.  ]\n",
      " [ 979.    945.  ]\n",
      " [1832.89 3059.  ]\n",
      " [1073.88  969.  ]\n",
      " [1202.64 1240.  ]\n",
      " [1114.54  861.  ]\n",
      " [1202.64  850.  ]\n",
      " [1670.25 1600.  ]\n",
      " [1358.51 1792.  ]\n",
      " [1948.1  2750.  ]\n",
      " [1231.61 1039.  ]\n",
      " [1555.04 2200.  ]\n",
      " [1243.3  1099.  ]\n",
      " [1609.25 1350.  ]\n",
      " [1358.51 1225.  ]\n",
      " [1250.08 1043.  ]\n",
      " [1487.27  979.  ]\n",
      " [1290.74 1075.  ]\n",
      " [1243.3  1098.  ]\n",
      " [ 884.12  845.  ]\n",
      " [1256.85  923.  ]\n",
      " [ 829.91  690.  ]\n",
      " [1026.44 1040.  ]\n",
      " [1839.67 1649.  ]\n",
      " [1308.36 1420.  ]\n",
      " [1175.53  838.  ]\n",
      " [1283.96 1008.  ]\n",
      " [1175.53 2663.  ]\n",
      " [1283.96  939.  ]\n",
      " [1534.71 1575.  ]\n",
      " [1338.18 2483.  ]\n",
      " [1946.74 2600.  ]\n",
      " [2083.64 2500.  ]\n",
      " [1270.41 1195.  ]\n",
      " [1487.27  929.  ]\n",
      " [ 877.35 1457.  ]\n",
      " [1399.17 1020.  ]\n",
      " [1231.61  850.  ]\n",
      " [1114.54 1220.  ]\n",
      " [1411.37 1129.  ]\n",
      " [ 890.9  1800.  ]\n",
      " [1751.57 1085.  ]\n",
      " [ 945.11  720.  ]\n",
      " [ 857.01  789.  ]\n",
      " [1067.1   920.  ]\n",
      " [1297.51  947.  ]\n",
      " [1141.65 1490.  ]\n",
      " [1046.77 1070.  ]\n",
      " [1189.08 1290.  ]\n",
      " [ 979.    790.  ]\n",
      " [1107.76 1099.  ]\n",
      " [1231.61  973.  ]\n",
      " [1744.79 2550.  ]\n",
      " [ 857.01  779.  ]\n",
      " [1134.87  825.  ]\n",
      " [1114.54  750.  ]\n",
      " [1168.75  964.  ]\n",
      " [ 904.45  810.  ]\n",
      " [1216.19  890.  ]\n",
      " [1229.75 1187.  ]\n",
      " [ 918.01 1031.  ]\n",
      " [1094.21  840.  ]\n",
      " [1534.71 1580.  ]\n",
      " [1107.76 1099.  ]\n",
      " [1134.87 1180.  ]\n",
      " [1744.79 1469.  ]\n",
      " [1060.32  839.  ]\n",
      " [1250.08  990.  ]\n",
      " [ 972.22  917.  ]\n",
      " [1195.86  960.  ]\n",
      " [1012.88 1055.  ]\n",
      " [1433.05 1337.  ]\n",
      " [1134.87 1198.  ]\n",
      " [ 918.01  950.  ]\n",
      " [1839.67 2150.  ]\n",
      " [1622.81 1710.  ]\n",
      " [1555.04 1199.  ]\n",
      " [1595.7  1399.  ]\n",
      " [1446.61 1372.  ]\n",
      " [1080.65  921.  ]\n",
      " [ 843.46  699.  ]\n",
      " [1317.85  959.  ]\n",
      " [1080.65  999.  ]\n",
      " [1155.2   955.  ]\n",
      " [1338.18 1199.  ]\n",
      " [1297.51  879.  ]\n",
      " [ 884.12  930.  ]\n",
      " [1231.61 1018.  ]\n",
      " [1302.94  999.  ]\n",
      " [1141.65 1185.  ]\n",
      " [ 714.7   522.  ]\n",
      " [ 857.01  839.  ]\n",
      " [1060.32  627.  ]\n",
      " [1331.4   979.  ]\n",
      " [ 796.02 1457.  ]\n",
      " [1677.02 1850.  ]\n",
      " [1616.03 1520.  ]\n",
      " [ 992.55  686.  ]\n",
      " [1609.25 1600.  ]\n",
      " [1677.02 3100.  ]\n",
      " [1243.3   979.  ]\n",
      " [1541.48 1239.  ]\n",
      " [1385.61 1030.  ]\n",
      " [1704.13 2315.  ]\n",
      " [1189.08  850.  ]\n",
      " [1616.03 1450.  ]\n",
      " [1555.04 1490.  ]\n",
      " [ 945.11  786.  ]\n",
      " [1168.75  909.  ]\n",
      " [1419.5  1056.  ]\n",
      " [1304.29 1159.  ]\n",
      " [ 782.47 1329.  ]\n",
      " [1433.05 1585.  ]\n",
      " [1826.11 1365.  ]\n",
      " [2151.41 2599.  ]\n",
      " [1141.65  945.  ]\n",
      " [1243.3  1060.  ]\n",
      " [1446.61 1102.  ]\n",
      " [1168.75 1100.  ]\n",
      " [1799.01 2800.  ]\n",
      " [1067.1   990.  ]\n",
      " [ 931.56 1480.  ]\n",
      " [ 992.55  599.  ]\n",
      " [1236.52 1061.  ]\n",
      " [ 985.78  800.  ]\n",
      " [1324.62  979.  ]\n",
      " [1175.53 1131.  ]\n",
      " [1053.55  775.  ]\n",
      " [1019.66 1139.  ]\n",
      " [1229.75 2565.  ]\n",
      " [ 660.48  522.  ]\n",
      " [1283.96 1290.  ]\n",
      " [1114.54 1249.  ]\n",
      " [1189.08 1200.  ]\n",
      " [ 857.01  839.  ]\n",
      " [1107.76 1099.  ]\n",
      " [1067.1  1195.  ]\n",
      " [ 958.67 1131.  ]\n",
      " [1527.93 2339.  ]\n",
      " [ 890.9   690.  ]\n",
      " [ 857.01  815.  ]\n",
      " [1324.62  937.  ]\n",
      " [1527.93 1250.  ]\n",
      " [1277.18  975.  ]\n",
      " [ 768.91  585.  ]\n",
      " [1229.75 1179.  ]\n",
      " [1514.38 1198.  ]\n",
      " [ 924.78  979.  ]\n",
      " [ 992.55 1030.  ]\n",
      " [1527.93 2700.  ]\n",
      " [1033.21  859.  ]\n",
      " [1250.08 1040.  ]\n",
      " [1060.32  915.  ]\n",
      " [1304.29 1100.  ]\n",
      " [1527.93  874.  ]\n",
      " [1616.03 1372.  ]\n",
      " [1053.55  890.  ]\n",
      " [1107.76  919.  ]\n",
      " [1080.65  995.  ]\n",
      " [1107.76 1069.  ]\n",
      " [1311.07  935.  ]\n",
      " [ 687.59  450.  ]\n",
      " [1771.9  1028.  ]\n",
      " [1114.54  920.  ]\n",
      " [1107.76  980.  ]\n",
      " [1568.59 1590.  ]\n",
      " [1032.94  925.  ]\n",
      " [ 904.45  970.  ]\n",
      " [1331.4  1065.  ]\n",
      " [1243.3   949.  ]\n",
      " [1084.72 1150.  ]\n",
      " [1231.61 1200.  ]\n",
      " [ 897.68  749.  ]\n",
      " [1378.84  795.  ]\n",
      " [1202.64  890.  ]\n",
      " [1006.11  830.  ]\n",
      " [1487.27  867.  ]\n",
      " [1046.77  890.  ]\n",
      " [ 863.79 1675.  ]\n",
      " [1378.84 1384.  ]\n",
      " [ 884.12  790.  ]\n",
      " [ 755.36  650.  ]\n",
      " [1012.88 1060.  ]\n",
      " [1527.93 1453.  ]\n",
      " [1134.87 1457.  ]\n",
      " [ 992.55  980.  ]\n",
      " [1311.07 1190.  ]\n",
      " [1231.61  880.  ]\n",
      " [1216.19 1450.  ]\n",
      " [1819.34 2090.  ]\n",
      " [1231.61 1178.  ]\n",
      " [1602.48 1620.  ]\n",
      " [ 945.11 1514.  ]\n",
      " [1195.86 1100.  ]\n",
      " [1012.88 2260.  ]\n",
      " [1209.41 1329.  ]\n",
      " [1080.65 1175.  ]\n",
      " [1473.71 1567.  ]\n",
      " [1304.29  859.  ]\n",
      " [1216.19 1100.  ]\n",
      " [1643.14 1599.  ]\n",
      " [1399.17 1530.  ]\n",
      " [1148.42  910.  ]\n",
      " [1317.85  989.  ]\n",
      " [ 863.79 1680.  ]\n",
      " [1128.09  970.  ]\n",
      " [1121.31  899.  ]\n",
      " [1067.1  1900.  ]\n",
      " [ 931.56  850.  ]\n",
      " [ 985.78 2030.  ]\n",
      " [1399.17 1450.  ]\n",
      " [ 674.04  585.  ]\n",
      " [ 884.12  820.  ]\n",
      " [1202.64  945.  ]\n",
      " [1033.21  930.  ]\n",
      " [1134.87 1190.  ]\n",
      " [ 918.01  729.  ]\n",
      " [1155.2  1130.  ]\n",
      " [1080.65 2414.  ]\n",
      " [1128.09  990.  ]\n",
      " [ 972.22  830.  ]\n",
      " [1494.05 1499.  ]\n",
      " [1250.08 1550.  ]\n",
      " [1365.28 2381.  ]\n",
      " [1182.31 1129.  ]\n",
      " [1595.7  1600.  ]\n",
      " [ 857.01  839.  ]\n",
      " [1168.75 1200.  ]\n",
      " [ 985.78 1836.  ]\n",
      " [ 755.36  970.  ]\n",
      " [1351.73 1340.  ]\n",
      " [1941.32 2500.  ]\n",
      " [1060.32 1303.  ]\n",
      " [1092.85  998.  ]\n",
      " [1107.76 1950.  ]\n",
      " [ 857.01  839.  ]\n",
      " [1582.15 1304.  ]\n",
      " [1071.17 1050.  ]\n",
      " [1033.21  940.  ]\n",
      " [1168.75  890.  ]\n",
      " [1039.99  929.  ]\n",
      " [1087.43  931.  ]\n",
      " [ 918.01  610.  ]\n",
      " [1148.42 1390.  ]\n",
      " [1269.05  919.  ]\n",
      " [1168.75 1090.  ]\n",
      " [1494.05 1549.  ]\n",
      " [1195.86  915.  ]\n",
      " [ 863.79 1209.  ]\n",
      " [1107.76  999.  ]\n",
      " [ 985.78  875.  ]\n",
      " [1446.61 1350.  ]\n",
      " [1046.77  990.  ]\n",
      " [1534.71 1050.  ]\n",
      " [1182.31  850.  ]\n",
      " [2232.73 2735.  ]\n",
      " [1365.28 1750.  ]\n",
      " [1006.11 1085.  ]\n",
      " [1243.3   949.  ]\n",
      " [2056.53 1500.  ]\n",
      " [ 951.89  995.  ]\n",
      " [1182.31  890.  ]\n",
      " [1324.62 1150.  ]\n",
      " [2463.15 3499.  ]\n",
      " [1575.37 1699.  ]\n",
      " [ 924.78  980.  ]\n",
      " [2036.2  2250.  ]\n",
      " [1317.85 1106.  ]\n",
      " [1161.98  780.  ]\n",
      " [1107.76  945.  ]\n",
      " [1107.76 1129.  ]\n",
      " [1500.82 1319.  ]\n",
      " [1460.16 1450.  ]\n",
      " [1231.61  499.  ]\n",
      " [ 985.78  859.  ]\n",
      " [1189.08 1151.  ]\n",
      " [ 897.68  725.  ]\n",
      " [1710.91 1399.  ]\n",
      " [ 857.01  839.  ]\n",
      " [2124.3  2400.  ]\n",
      " [1231.61  830.  ]\n",
      " [1073.88 1175.  ]\n",
      " [1561.81 1638.  ]\n",
      " [ 958.67 1379.  ]\n",
      " [ 877.35 1511.  ]\n",
      " [ 931.56  930.  ]\n",
      " [1460.16 1350.  ]\n",
      " [1121.31  899.  ]\n",
      " [1067.1  2559.  ]\n",
      " [1534.71 1575.  ]\n",
      " [ 796.02  850.  ]\n",
      " [1229.75 1299.  ]\n",
      " [1263.63  916.  ]\n",
      " [1006.11 1099.  ]\n",
      " [1317.85  895.  ]\n",
      " [1582.15 1459.  ]\n",
      " [3615.22 3199.  ]\n",
      " [1331.4  1065.  ]\n",
      " [ 884.12  915.  ]\n",
      " [ 972.22  730.  ]\n",
      " [1534.71 1320.  ]\n",
      " [1107.76 1129.  ]\n",
      " [ 701.15  500.  ]\n",
      " [1765.12 1245.  ]\n",
      " [ 870.57  760.  ]\n",
      " [ 766.2   295.  ]\n",
      " [1114.54  999.  ]\n",
      " [1231.61 1150.  ]\n",
      " [1148.42  895.  ]\n",
      " [2097.19 3250.  ]\n",
      " [1731.24 2345.  ]\n",
      " [1216.19  920.  ]\n",
      " [1202.64 1090.  ]\n",
      " [1046.77 1000.  ]\n",
      " [1297.51 1040.  ]\n",
      " [1873.55 1246.  ]\n",
      " [1231.61 1300.  ]\n",
      " [1412.72 1350.  ]\n",
      " [1405.95 1470.  ]\n",
      " [1365.28 1075.  ]\n",
      " [1202.64  995.  ]\n",
      " [1107.76 1129.  ]\n",
      " [1270.41 1680.  ]\n",
      " [ 836.68 1948.  ]\n",
      " [1155.2   848.  ]\n",
      " [1107.76 1099.  ]\n",
      " [1365.28 2483.  ]\n",
      " [1026.44  855.  ]\n",
      " [1231.61  648.  ]\n",
      " [ 931.56  800.  ]\n",
      " [1012.88 1390.  ]\n",
      " [1243.3   769.  ]\n",
      " [ 945.11  893.  ]\n",
      " [1338.18 1149.  ]\n",
      " [1231.61  959.  ]\n",
      " [3249.27 3050.  ]\n",
      " [ 850.24 1340.  ]\n",
      " [1107.76 1099.  ]\n",
      " [ 945.11  970.  ]\n",
      " [2463.15 2844.  ]\n",
      " [1243.3   939.  ]\n",
      " [ 890.9  2032.  ]\n",
      " [1053.55  992.  ]\n",
      " [1263.63 1040.  ]\n",
      " [1094.21 2414.  ]\n",
      " [1039.99 2132.  ]\n",
      " [1026.44 1159.  ]\n",
      " [1141.65  955.  ]\n",
      " [1263.63 1029.  ]\n",
      " [1148.42 1200.  ]\n",
      " [ 911.23  925.  ]\n",
      " [ 958.67 1550.  ]\n",
      " [ 890.9  1766.  ]\n",
      " [1283.96  980.  ]\n",
      " [1006.11  785.  ]\n",
      " [1195.86 1190.  ]\n",
      " [1128.09 1235.  ]\n",
      " [1053.55 1140.  ]\n",
      " [ 857.01  839.  ]\n",
      " [1155.2   850.  ]\n",
      " [1094.21 2000.  ]\n",
      " [ 985.78  859.  ]\n",
      " [1067.1  1055.  ]\n",
      " [1372.06  960.  ]\n",
      " [1067.1  1090.  ]\n",
      " [ 992.55 3520.  ]\n",
      " [1331.4   964.  ]\n",
      " [1487.27 1347.  ]\n",
      " [1141.65  950.  ]\n",
      " [1094.21 1390.  ]\n",
      " [1344.95  499.  ]\n",
      " [ 945.11  525.  ]\n",
      " [1231.61 1713.  ]\n",
      " [1269.05  933.  ]\n",
      " [ 857.01  815.  ]\n",
      " [ 945.11  900.  ]\n",
      " [1256.85 1306.  ]\n",
      " [1270.41 1269.  ]\n",
      " [1096.78 1190.  ]]\n"
     ]
    }
   ],
   "source": [
    "y_pred = regressor.predict(X_test)\n",
    "np.set_printoptions(precision=2)\n",
    "print(np.concatenate((y_pred.reshape(len(y_pred),1), y_test.reshape(len(y_test),1)),1))"
   ]
  },
  {
   "cell_type": "markdown",
   "metadata": {
    "colab_type": "text",
    "id": "0O8R0tzbEpvy"
   },
   "source": [
    "## Visualising the Linear Regression results"
   ]
  },
  {
   "cell_type": "code",
   "execution_count": 162,
   "metadata": {},
   "outputs": [
    {
     "data": {
      "image/png": "[encoded data removed]",
      "text/plain": [
       "<Figure size 432x288 with 1 Axes>"
      ]
     },
     "metadata": {
      "needs_background": "light"
     },
     "output_type": "display_data"
    }
   ],
   "source": [
    "plt.scatter(X, y, color = 'red')\n",
    "plt.plot(X, lin_reg.predict(X), color = 'blue')\n",
    "plt.title('House Rents (Linear Regression)')\n",
    "plt.xlabel('Sizes')\n",
    "plt.ylabel('Rents')\n",
    "plt.show()"
   ]
  },
  {
   "cell_type": "markdown",
   "metadata": {
    "colab_type": "text",
    "id": "Rb5nWuSHEfBV"
   },
   "source": [
    "## Training the Polynomial Regression model on the whole dataset"
   ]
  },
  {
   "cell_type": "code",
   "execution_count": 163,
   "metadata": {
    "colab": {
     "base_uri": "https://localhost:8080/",
     "height": 35
    },
    "colab_type": "code",
    "id": "HYplp4pTEm0O",
    "outputId": "4c3c03dd-0def-4584-a893-aa2e72629e8f"
   },
   "outputs": [
    {
     "data": {
      "text/plain": [
       "LinearRegression()"
      ]
     },
     "execution_count": 163,
     "metadata": {},
     "output_type": "execute_result"
    }
   ],
   "source": [
    "from sklearn.preprocessing import PolynomialFeatures\n",
    "poly_reg = PolynomialFeatures(degree = 4)\n",
    "\n",
    "X_poly = poly_reg.fit_transform(X)\n",
    "lin_reg_2 = LinearRegression()\n",
    "lin_reg_2.fit(X_poly, y)"
   ]
  },
  {
   "cell_type": "markdown",
   "metadata": {
    "colab_type": "text",
    "id": "U_qsAMKnE-PJ"
   },
   "source": [
    "## Visualising the Polynomial Regression results (for higher resolution and smoother curve)"
   ]
  },
  {
   "cell_type": "code",
   "execution_count": 164,
   "metadata": {},
   "outputs": [
    {
     "data": {
      "image/png": "[encoded data removed]",
      "text/plain": [
       "<Figure size 432x288 with 1 Axes>"
      ]
     },
     "metadata": {
      "needs_background": "light"
     },
     "output_type": "display_data"
    }
   ],
   "source": [
    "X_grid = np.arange(min(X), max(X), 0.1)\n",
    "X_grid = X_grid.reshape((len(X_grid), 1))\n",
    "plt.scatter(X, y, color = 'red')\n",
    "plt.plot(X_grid, lin_reg_2.predict(poly_reg.fit_transform(X_grid)), color = 'blue')\n",
    "plt.title('House Rents(Polynomial Regression)')\n",
    "plt.xlabel('Sizes')\n",
    "plt.ylabel('Rents')\n",
    "plt.show()"
   ]
  },
  {
   "cell_type": "markdown",
   "metadata": {
    "colab_type": "text",
    "id": "stOnSo74E52m"
   },
   "source": [
    "## Visualising the Polynomial Regression results"
   ]
  },
  {
   "cell_type": "code",
   "execution_count": 166,
   "metadata": {
    "colab": {
     "base_uri": "https://localhost:8080/",
     "height": 295
    },
    "colab_type": "code",
    "id": "UCOcurIQE7Zv",
    "outputId": "93927499-de98-4a31-a619-c373926cbe56"
   },
   "outputs": [
    {
     "data": {
      "image/png": "[encoded data removed]",
      "text/plain": [
       "<Figure size 432x288 with 1 Axes>"
      ]
     },
     "metadata": {
      "needs_background": "light"
     },
     "output_type": "display_data"
    }
   ],
   "source": [
    "# Not a smothe plot but can show that this model doesnt fit this data\n",
    "\n",
    "plt.scatter(X, y, color = 'red')\n",
    "plt.plot(X, lin_reg_2.predict(poly_reg.fit_transform(X)), color = 'blue')\n",
    "plt.title('House Rents(Polynomial Regression)')\n",
    "plt.xlabel('Sizes')\n",
    "plt.ylabel('Rents')\n",
    "plt.show()"
   ]
  },
  {
   "cell_type": "markdown",
   "metadata": {
    "colab_type": "text",
    "id": "diyJFZHhFFeK"
   },
   "source": [
    "## Predicting a new result with Linear Regression"
   ]
  },
  {
   "cell_type": "code",
   "execution_count": 167,
   "metadata": {
    "colab": {
     "base_uri": "https://localhost:8080/",
     "height": 35
    },
    "colab_type": "code",
    "id": "Blmp6Hn7FJW6",
    "outputId": "f01610bc-b077-4df0-cae4-ea37c8b0037f"
   },
   "outputs": [
    {
     "data": {
      "text/plain": [
       "array([[2558.02]])"
      ]
     },
     "execution_count": 167,
     "metadata": {},
     "output_type": "execute_result"
    }
   ],
   "source": [
    "lin_reg.predict([[150]])"
   ]
  },
  {
   "cell_type": "markdown",
   "metadata": {
    "colab_type": "text",
    "id": "DW7I7ZVDFNkk"
   },
   "source": [
    "## Predicting a new result with Polynomial Regression"
   ]
  },
  {
   "cell_type": "code",
   "execution_count": 168,
   "metadata": {
    "colab": {
     "base_uri": "https://localhost:8080/",
     "height": 35
    },
    "colab_type": "code",
    "id": "uQmtnyTHFRGG",
    "outputId": "2739bf8a-6dfb-4226-b200-252ee8857097"
   },
   "outputs": [
    {
     "data": {
      "text/plain": [
       "array([[3157.19]])"
      ]
     },
     "execution_count": 168,
     "metadata": {},
     "output_type": "execute_result"
    }
   ],
   "source": [
    "lin_reg_2.predict(poly_reg.fit_transform([[150]]))"
   ]
  },
  {
   "cell_type": "code",
   "execution_count": null,
   "metadata": {},
   "outputs": [],
   "source": []
  }
 ],
 "metadata": {
  "colab": {
   "collapsed_sections": [],
   "name": "polynomial_regression.ipynb",
   "provenance": [],
   "toc_visible": true
  },
  "kernelspec": {
   "display_name": "Python 3",
   "language": "python",
   "name": "python3"
  },
  "language_info": {
   "codemirror_mode": {
    "name": "ipython",
    "version": 3
   },
   "file_extension": ".py",
   "mimetype": "text/x-python",
   "name": "python",
   "nbconvert_exporter": "python",
   "pygments_lexer": "ipython3",
   "version": "3.8.3"
  }
 },
 "nbformat": 4,
 "nbformat_minor": 1
}
