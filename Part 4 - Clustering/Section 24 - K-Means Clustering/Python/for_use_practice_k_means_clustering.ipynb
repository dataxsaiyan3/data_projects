{
 "cells": [
  {
   "cell_type": "markdown",
   "metadata": {
    "colab_type": "text",
    "id": "i_paGd_yLbgH"
   },
   "source": [
    "# K-Means Clustering"
   ]
  },
  {
   "cell_type": "markdown",
   "metadata": {
    "colab_type": "text",
    "id": "nAuqPwTnLipr"
   },
   "source": [
    "## Importing the libraries"
   ]
  },
  {
   "cell_type": "code",
   "execution_count": 44,
   "metadata": {
    "colab": {},
    "colab_type": "code",
    "id": "yUXGcC4KLmcL"
   },
   "outputs": [],
   "source": [
    "import numpy as np\n",
    "import matplotlib.pyplot as plt\n",
    "import pandas as pd"
   ]
  },
  {
   "cell_type": "markdown",
   "metadata": {
    "colab_type": "text",
    "id": "5LciKOr8Lo5O"
   },
   "source": [
    "## Importing the dataset"
   ]
  },
  {
   "cell_type": "code",
   "execution_count": 84,
   "metadata": {
    "colab": {},
    "colab_type": "code",
    "id": "9RlmPzZGLtGi"
   },
   "outputs": [
    {
     "data": {
      "text/html": [
       "<div>\n",
       "<style scoped>\n",
       "    .dataframe tbody tr th:only-of-type {\n",
       "        vertical-align: middle;\n",
       "    }\n",
       "\n",
       "    .dataframe tbody tr th {\n",
       "        vertical-align: top;\n",
       "    }\n",
       "\n",
       "    .dataframe thead th {\n",
       "        text-align: right;\n",
       "    }\n",
       "</style>\n",
       "<table border=\"1\" class=\"dataframe\">\n",
       "  <thead>\n",
       "    <tr style=\"text-align: right;\">\n",
       "      <th></th>\n",
       "      <th>ID</th>\n",
       "      <th>HouseType</th>\n",
       "      <th>Size</th>\n",
       "      <th>MonthlyRentals</th>\n",
       "      <th>City</th>\n",
       "      <th>Sauna</th>\n",
       "      <th>Balcony</th>\n",
       "      <th>Address</th>\n",
       "      <th>Latitude</th>\n",
       "      <th>Longitude</th>\n",
       "      <th>Number_Of_Rooms</th>\n",
       "    </tr>\n",
       "  </thead>\n",
       "  <tbody>\n",
       "    <tr>\n",
       "      <th>0</th>\n",
       "      <td>4561</td>\n",
       "      <td>kerrostalo</td>\n",
       "      <td>17.8</td>\n",
       "      <td>295</td>\n",
       "      <td>Helsinki</td>\n",
       "      <td>0</td>\n",
       "      <td>0</td>\n",
       "      <td>Ida Aalbergin, 00400, Helsinki</td>\n",
       "      <td>60.230411</td>\n",
       "      <td>24.900260</td>\n",
       "      <td>1</td>\n",
       "    </tr>\n",
       "    <tr>\n",
       "      <th>1</th>\n",
       "      <td>6711</td>\n",
       "      <td>kerrostalo</td>\n",
       "      <td>17.8</td>\n",
       "      <td>295</td>\n",
       "      <td>Helsinki</td>\n",
       "      <td>0</td>\n",
       "      <td>0</td>\n",
       "      <td>Ida Aalbergin, 00400, Helsinki</td>\n",
       "      <td>60.230411</td>\n",
       "      <td>24.900260</td>\n",
       "      <td>1</td>\n",
       "    </tr>\n",
       "    <tr>\n",
       "      <th>2</th>\n",
       "      <td>16643</td>\n",
       "      <td>kerrostalo</td>\n",
       "      <td>17.8</td>\n",
       "      <td>295</td>\n",
       "      <td>Helsinki</td>\n",
       "      <td>0</td>\n",
       "      <td>0</td>\n",
       "      <td>Ida Aalbergin, 00400, Helsinki</td>\n",
       "      <td>60.230411</td>\n",
       "      <td>24.900260</td>\n",
       "      <td>1</td>\n",
       "    </tr>\n",
       "    <tr>\n",
       "      <th>3</th>\n",
       "      <td>13998</td>\n",
       "      <td>kerrostalo</td>\n",
       "      <td>25.0</td>\n",
       "      <td>350</td>\n",
       "      <td>Helsinki</td>\n",
       "      <td>0</td>\n",
       "      <td>0</td>\n",
       "      <td>Valhallankatu 5.A.1, 00250, Helsinki</td>\n",
       "      <td>60.184918</td>\n",
       "      <td>24.912827</td>\n",
       "      <td>0</td>\n",
       "    </tr>\n",
       "    <tr>\n",
       "      <th>4</th>\n",
       "      <td>7619</td>\n",
       "      <td>kerrostalo</td>\n",
       "      <td>25.0</td>\n",
       "      <td>370</td>\n",
       "      <td>Helsinki</td>\n",
       "      <td>0</td>\n",
       "      <td>0</td>\n",
       "      <td>Valhallankatu 5, 00250, Helsinki</td>\n",
       "      <td>60.184028</td>\n",
       "      <td>24.913289</td>\n",
       "      <td>0</td>\n",
       "    </tr>\n",
       "    <tr>\n",
       "      <th>...</th>\n",
       "      <td>...</td>\n",
       "      <td>...</td>\n",
       "      <td>...</td>\n",
       "      <td>...</td>\n",
       "      <td>...</td>\n",
       "      <td>...</td>\n",
       "      <td>...</td>\n",
       "      <td>...</td>\n",
       "      <td>...</td>\n",
       "      <td>...</td>\n",
       "      <td>...</td>\n",
       "    </tr>\n",
       "    <tr>\n",
       "      <th>2137</th>\n",
       "      <td>7991</td>\n",
       "      <td>kerrostalo</td>\n",
       "      <td>75.5</td>\n",
       "      <td>986</td>\n",
       "      <td>Helsinki</td>\n",
       "      <td>0</td>\n",
       "      <td>0</td>\n",
       "      <td>Maisemamaalauksenkatu 1, 00430, Helsinki</td>\n",
       "      <td>60.259528</td>\n",
       "      <td>24.886313</td>\n",
       "      <td>4</td>\n",
       "    </tr>\n",
       "    <tr>\n",
       "      <th>2138</th>\n",
       "      <td>7032</td>\n",
       "      <td>kerrostalo</td>\n",
       "      <td>45.5</td>\n",
       "      <td>987</td>\n",
       "      <td>Helsinki</td>\n",
       "      <td>0</td>\n",
       "      <td>1</td>\n",
       "      <td>Sofianlehdonkatu 5a, 00610, Helsinki</td>\n",
       "      <td>60.205106</td>\n",
       "      <td>24.949575</td>\n",
       "      <td>2</td>\n",
       "    </tr>\n",
       "    <tr>\n",
       "      <th>2139</th>\n",
       "      <td>14847</td>\n",
       "      <td>kerrostalo</td>\n",
       "      <td>NaN</td>\n",
       "      <td>989</td>\n",
       "      <td>Helsinki</td>\n",
       "      <td>1</td>\n",
       "      <td>0</td>\n",
       "      <td>Kaivonkatsojantie 8, 00980, Helsinki</td>\n",
       "      <td>60.205087</td>\n",
       "      <td>25.136130</td>\n",
       "      <td>2</td>\n",
       "    </tr>\n",
       "    <tr>\n",
       "      <th>2140</th>\n",
       "      <td>8013</td>\n",
       "      <td>kerrostalo</td>\n",
       "      <td>80.0</td>\n",
       "      <td>991</td>\n",
       "      <td>Helsinki</td>\n",
       "      <td>0</td>\n",
       "      <td>0</td>\n",
       "      <td>Maisemamaalauksenkatu 1, 00430, Helsinki</td>\n",
       "      <td>60.259528</td>\n",
       "      <td>24.886313</td>\n",
       "      <td>4</td>\n",
       "    </tr>\n",
       "    <tr>\n",
       "      <th>2141</th>\n",
       "      <td>1129</td>\n",
       "      <td>kerrostalo</td>\n",
       "      <td>39.0</td>\n",
       "      <td>992</td>\n",
       "      <td>Helsinki</td>\n",
       "      <td>1</td>\n",
       "      <td>1</td>\n",
       "      <td>Taimistontie 9, 00390, Helsinki</td>\n",
       "      <td>60.216354</td>\n",
       "      <td>24.863749</td>\n",
       "      <td>0</td>\n",
       "    </tr>\n",
       "  </tbody>\n",
       "</table>\n",
       "<p>2142 rows × 11 columns</p>\n",
       "</div>"
      ],
      "text/plain": [
       "         ID   HouseType  Size  MonthlyRentals      City  Sauna  Balcony  \\\n",
       "0      4561  kerrostalo  17.8             295  Helsinki      0        0   \n",
       "1      6711  kerrostalo  17.8             295  Helsinki      0        0   \n",
       "2     16643  kerrostalo  17.8             295  Helsinki      0        0   \n",
       "3     13998  kerrostalo  25.0             350  Helsinki      0        0   \n",
       "4      7619  kerrostalo  25.0             370  Helsinki      0        0   \n",
       "...     ...         ...   ...             ...       ...    ...      ...   \n",
       "2137   7991  kerrostalo  75.5             986  Helsinki      0        0   \n",
       "2138   7032  kerrostalo  45.5             987  Helsinki      0        1   \n",
       "2139  14847  kerrostalo   NaN             989  Helsinki      1        0   \n",
       "2140   8013  kerrostalo  80.0             991  Helsinki      0        0   \n",
       "2141   1129  kerrostalo  39.0             992  Helsinki      1        1   \n",
       "\n",
       "                                       Address   Latitude  Longitude  \\\n",
       "0               Ida Aalbergin, 00400, Helsinki  60.230411  24.900260   \n",
       "1               Ida Aalbergin, 00400, Helsinki  60.230411  24.900260   \n",
       "2               Ida Aalbergin, 00400, Helsinki  60.230411  24.900260   \n",
       "3         Valhallankatu 5.A.1, 00250, Helsinki  60.184918  24.912827   \n",
       "4             Valhallankatu 5, 00250, Helsinki  60.184028  24.913289   \n",
       "...                                        ...        ...        ...   \n",
       "2137  Maisemamaalauksenkatu 1, 00430, Helsinki  60.259528  24.886313   \n",
       "2138      Sofianlehdonkatu 5a, 00610, Helsinki  60.205106  24.949575   \n",
       "2139      Kaivonkatsojantie 8, 00980, Helsinki  60.205087  25.136130   \n",
       "2140  Maisemamaalauksenkatu 1, 00430, Helsinki  60.259528  24.886313   \n",
       "2141           Taimistontie 9, 00390, Helsinki  60.216354  24.863749   \n",
       "\n",
       "      Number_Of_Rooms  \n",
       "0                   1  \n",
       "1                   1  \n",
       "2                   1  \n",
       "3                   0  \n",
       "4                   0  \n",
       "...               ...  \n",
       "2137                4  \n",
       "2138                2  \n",
       "2139                2  \n",
       "2140                4  \n",
       "2141                0  \n",
       "\n",
       "[2142 rows x 11 columns]"
      ]
     },
     "execution_count": 84,
     "metadata": {},
     "output_type": "execute_result"
    }
   ],
   "source": [
    "dataset = pd.read_csv('Helsinki_rent.csv')\n",
    "dataset"
   ]
  },
  {
   "cell_type": "code",
   "execution_count": 85,
   "metadata": {},
   "outputs": [],
   "source": [
    "dataset = dataset[dataset['Latitude'].notna()] \n",
    "dataset = dataset[dataset['Longitude'].notna()] "
   ]
  },
  {
   "cell_type": "markdown",
   "metadata": {
    "colab_type": "text",
    "id": "nWC2EWp2Lx5G"
   },
   "source": [
    "## Using the elbow method to find the optimal number of clusters"
   ]
  },
  {
   "cell_type": "code",
   "execution_count": 92,
   "metadata": {
    "colab": {
     "base_uri": "https://localhost:8080/",
     "height": 295
    },
    "colab_type": "code",
    "executionInfo": {
     "elapsed": 2064,
     "status": "ok",
     "timestamp": 1586372911621,
     "user": {
      "displayName": "Hadelin de Ponteves",
      "photoUrl": "https://lh3.googleusercontent.com/a-/AOh14GhEuXdT7eQweUmRPW8_laJuPggSK6hfvpl5a6WBaA=s64",
      "userId": "15047218817161520419"
     },
     "user_tz": -240
    },
    "id": "zWs6ciOoL1b3",
    "outputId": "893027bb-ecf9-45a4-f229-f54cebdccee2"
   },
   "outputs": [
    {
     "data": {
      "image/png": "[encoded data removed]",
      "text/plain": [
       "<Figure size 432x288 with 1 Axes>"
      ]
     },
     "metadata": {
      "needs_background": "light"
     },
     "output_type": "display_data"
    }
   ],
   "source": [
    "from sklearn.cluster import KMeans\n",
    "wcss = []\n",
    "for i in range(1, 11):\n",
    "    kmeans = KMeans(n_clusters = i, init = 'k-means++', random_state = 42)\n",
    "    kmeans.fit(X)\n",
    "    wcss.append(kmeans.inertia_)\n",
    "plt.plot(range(1, 11), wcss)\n",
    "plt.title('The Elbow Method')\n",
    "plt.xlabel('Number of clusters')\n",
    "plt.ylabel('WCSS')\n",
    "plt.show()"
   ]
  },
  {
   "cell_type": "code",
   "execution_count": 93,
   "metadata": {},
   "outputs": [
    {
     "data": {
      "text/html": [
       "<div>\n",
       "<style scoped>\n",
       "    .dataframe tbody tr th:only-of-type {\n",
       "        vertical-align: middle;\n",
       "    }\n",
       "\n",
       "    .dataframe tbody tr th {\n",
       "        vertical-align: top;\n",
       "    }\n",
       "\n",
       "    .dataframe thead th {\n",
       "        text-align: right;\n",
       "    }\n",
       "</style>\n",
       "<table border=\"1\" class=\"dataframe\">\n",
       "  <thead>\n",
       "    <tr style=\"text-align: right;\">\n",
       "      <th></th>\n",
       "      <th>Latitude</th>\n",
       "      <th>Longitude</th>\n",
       "    </tr>\n",
       "  </thead>\n",
       "  <tbody>\n",
       "    <tr>\n",
       "      <th>0</th>\n",
       "      <td>60.230411</td>\n",
       "      <td>24.900260</td>\n",
       "    </tr>\n",
       "    <tr>\n",
       "      <th>1</th>\n",
       "      <td>60.230411</td>\n",
       "      <td>24.900260</td>\n",
       "    </tr>\n",
       "    <tr>\n",
       "      <th>2</th>\n",
       "      <td>60.230411</td>\n",
       "      <td>24.900260</td>\n",
       "    </tr>\n",
       "    <tr>\n",
       "      <th>3</th>\n",
       "      <td>60.184918</td>\n",
       "      <td>24.912827</td>\n",
       "    </tr>\n",
       "    <tr>\n",
       "      <th>4</th>\n",
       "      <td>60.184028</td>\n",
       "      <td>24.913289</td>\n",
       "    </tr>\n",
       "    <tr>\n",
       "      <th>5</th>\n",
       "      <td>60.240332</td>\n",
       "      <td>25.075256</td>\n",
       "    </tr>\n",
       "    <tr>\n",
       "      <th>6</th>\n",
       "      <td>60.235850</td>\n",
       "      <td>25.067794</td>\n",
       "    </tr>\n",
       "    <tr>\n",
       "      <th>7</th>\n",
       "      <td>60.230407</td>\n",
       "      <td>24.973222</td>\n",
       "    </tr>\n",
       "    <tr>\n",
       "      <th>8</th>\n",
       "      <td>60.237931</td>\n",
       "      <td>24.882157</td>\n",
       "    </tr>\n",
       "    <tr>\n",
       "      <th>9</th>\n",
       "      <td>60.238784</td>\n",
       "      <td>24.868355</td>\n",
       "    </tr>\n",
       "  </tbody>\n",
       "</table>\n",
       "</div>"
      ],
      "text/plain": [
       "    Latitude  Longitude\n",
       "0  60.230411  24.900260\n",
       "1  60.230411  24.900260\n",
       "2  60.230411  24.900260\n",
       "3  60.184918  24.912827\n",
       "4  60.184028  24.913289\n",
       "5  60.240332  25.075256\n",
       "6  60.235850  25.067794\n",
       "7  60.230407  24.973222\n",
       "8  60.237931  24.882157\n",
       "9  60.238784  24.868355"
      ]
     },
     "execution_count": 93,
     "metadata": {},
     "output_type": "execute_result"
    }
   ],
   "source": [
    "X=dataset.loc[:,['Latitude','Longitude']]\n",
    "X.head(10)"
   ]
  },
  {
   "cell_type": "code",
   "execution_count": 95,
   "metadata": {},
   "outputs": [
    {
     "data": {
      "text/html": [
       "<div>\n",
       "<style scoped>\n",
       "    .dataframe tbody tr th:only-of-type {\n",
       "        vertical-align: middle;\n",
       "    }\n",
       "\n",
       "    .dataframe tbody tr th {\n",
       "        vertical-align: top;\n",
       "    }\n",
       "\n",
       "    .dataframe thead th {\n",
       "        text-align: right;\n",
       "    }\n",
       "</style>\n",
       "<table border=\"1\" class=\"dataframe\">\n",
       "  <thead>\n",
       "    <tr style=\"text-align: right;\">\n",
       "      <th></th>\n",
       "      <th>Latitude</th>\n",
       "      <th>Longitude</th>\n",
       "      <th>cluster_label</th>\n",
       "    </tr>\n",
       "  </thead>\n",
       "  <tbody>\n",
       "    <tr>\n",
       "      <th>0</th>\n",
       "      <td>60.230411</td>\n",
       "      <td>24.900260</td>\n",
       "      <td>0</td>\n",
       "    </tr>\n",
       "    <tr>\n",
       "      <th>1</th>\n",
       "      <td>60.230411</td>\n",
       "      <td>24.900260</td>\n",
       "      <td>0</td>\n",
       "    </tr>\n",
       "    <tr>\n",
       "      <th>2</th>\n",
       "      <td>60.230411</td>\n",
       "      <td>24.900260</td>\n",
       "      <td>0</td>\n",
       "    </tr>\n",
       "    <tr>\n",
       "      <th>3</th>\n",
       "      <td>60.184918</td>\n",
       "      <td>24.912827</td>\n",
       "      <td>0</td>\n",
       "    </tr>\n",
       "    <tr>\n",
       "      <th>4</th>\n",
       "      <td>60.184028</td>\n",
       "      <td>24.913289</td>\n",
       "      <td>0</td>\n",
       "    </tr>\n",
       "    <tr>\n",
       "      <th>5</th>\n",
       "      <td>60.240332</td>\n",
       "      <td>25.075256</td>\n",
       "      <td>0</td>\n",
       "    </tr>\n",
       "    <tr>\n",
       "      <th>6</th>\n",
       "      <td>60.235850</td>\n",
       "      <td>25.067794</td>\n",
       "      <td>0</td>\n",
       "    </tr>\n",
       "    <tr>\n",
       "      <th>7</th>\n",
       "      <td>60.230407</td>\n",
       "      <td>24.973222</td>\n",
       "      <td>0</td>\n",
       "    </tr>\n",
       "    <tr>\n",
       "      <th>8</th>\n",
       "      <td>60.237931</td>\n",
       "      <td>24.882157</td>\n",
       "      <td>0</td>\n",
       "    </tr>\n",
       "    <tr>\n",
       "      <th>9</th>\n",
       "      <td>60.238784</td>\n",
       "      <td>24.868355</td>\n",
       "      <td>0</td>\n",
       "    </tr>\n",
       "  </tbody>\n",
       "</table>\n",
       "</div>"
      ],
      "text/plain": [
       "    Latitude  Longitude  cluster_label\n",
       "0  60.230411  24.900260              0\n",
       "1  60.230411  24.900260              0\n",
       "2  60.230411  24.900260              0\n",
       "3  60.184918  24.912827              0\n",
       "4  60.184028  24.913289              0\n",
       "5  60.240332  25.075256              0\n",
       "6  60.235850  25.067794              0\n",
       "7  60.230407  24.973222              0\n",
       "8  60.237931  24.882157              0\n",
       "9  60.238784  24.868355              0"
      ]
     },
     "execution_count": 95,
     "metadata": {},
     "output_type": "execute_result"
    }
   ],
   "source": [
    "kmeans = KMeans(n_clusters = 1, init ='k-means++')\n",
    "kmeans.fit(X[X.columns[:]]) # Compute k-means clustering.\n",
    "X['cluster_label'] = kmeans.fit_predict(X[X.columns[:]])\n",
    "centers = kmeans.cluster_centers_ # Coordinates of cluster centers.\n",
    "labels = kmeans.predict(X[X.columns[:]]) # Labels of each point\n",
    "X.head(10)"
   ]
  },
  {
   "cell_type": "code",
   "execution_count": 96,
   "metadata": {},
   "outputs": [
    {
     "data": {
      "text/html": [
       "<div>\n",
       "<style scoped>\n",
       "    .dataframe tbody tr th:only-of-type {\n",
       "        vertical-align: middle;\n",
       "    }\n",
       "\n",
       "    .dataframe tbody tr th {\n",
       "        vertical-align: top;\n",
       "    }\n",
       "\n",
       "    .dataframe thead th {\n",
       "        text-align: right;\n",
       "    }\n",
       "</style>\n",
       "<table border=\"1\" class=\"dataframe\">\n",
       "  <thead>\n",
       "    <tr style=\"text-align: right;\">\n",
       "      <th></th>\n",
       "      <th>Latitude</th>\n",
       "      <th>Longitude</th>\n",
       "      <th>cluster_label</th>\n",
       "    </tr>\n",
       "  </thead>\n",
       "  <tbody>\n",
       "    <tr>\n",
       "      <th>0</th>\n",
       "      <td>60.230411</td>\n",
       "      <td>24.900260</td>\n",
       "      <td>0</td>\n",
       "    </tr>\n",
       "    <tr>\n",
       "      <th>1</th>\n",
       "      <td>60.230411</td>\n",
       "      <td>24.900260</td>\n",
       "      <td>0</td>\n",
       "    </tr>\n",
       "    <tr>\n",
       "      <th>2</th>\n",
       "      <td>60.230411</td>\n",
       "      <td>24.900260</td>\n",
       "      <td>0</td>\n",
       "    </tr>\n",
       "    <tr>\n",
       "      <th>3</th>\n",
       "      <td>60.184918</td>\n",
       "      <td>24.912827</td>\n",
       "      <td>0</td>\n",
       "    </tr>\n",
       "    <tr>\n",
       "      <th>4</th>\n",
       "      <td>60.184028</td>\n",
       "      <td>24.913289</td>\n",
       "      <td>0</td>\n",
       "    </tr>\n",
       "    <tr>\n",
       "      <th>...</th>\n",
       "      <td>...</td>\n",
       "      <td>...</td>\n",
       "      <td>...</td>\n",
       "    </tr>\n",
       "    <tr>\n",
       "      <th>2137</th>\n",
       "      <td>60.259528</td>\n",
       "      <td>24.886313</td>\n",
       "      <td>0</td>\n",
       "    </tr>\n",
       "    <tr>\n",
       "      <th>2138</th>\n",
       "      <td>60.205106</td>\n",
       "      <td>24.949575</td>\n",
       "      <td>0</td>\n",
       "    </tr>\n",
       "    <tr>\n",
       "      <th>2139</th>\n",
       "      <td>60.205087</td>\n",
       "      <td>25.136130</td>\n",
       "      <td>0</td>\n",
       "    </tr>\n",
       "    <tr>\n",
       "      <th>2140</th>\n",
       "      <td>60.259528</td>\n",
       "      <td>24.886313</td>\n",
       "      <td>0</td>\n",
       "    </tr>\n",
       "    <tr>\n",
       "      <th>2141</th>\n",
       "      <td>60.216354</td>\n",
       "      <td>24.863749</td>\n",
       "      <td>0</td>\n",
       "    </tr>\n",
       "  </tbody>\n",
       "</table>\n",
       "<p>2077 rows × 3 columns</p>\n",
       "</div>"
      ],
      "text/plain": [
       "       Latitude  Longitude  cluster_label\n",
       "0     60.230411  24.900260              0\n",
       "1     60.230411  24.900260              0\n",
       "2     60.230411  24.900260              0\n",
       "3     60.184918  24.912827              0\n",
       "4     60.184028  24.913289              0\n",
       "...         ...        ...            ...\n",
       "2137  60.259528  24.886313              0\n",
       "2138  60.205106  24.949575              0\n",
       "2139  60.205087  25.136130              0\n",
       "2140  60.259528  24.886313              0\n",
       "2141  60.216354  24.863749              0\n",
       "\n",
       "[2077 rows x 3 columns]"
      ]
     },
     "execution_count": 96,
     "metadata": {},
     "output_type": "execute_result"
    }
   ],
   "source": [
    "X = X[X.cluster_label != 2]\n",
    "X\n"
   ]
  },
  {
   "cell_type": "code",
   "execution_count": null,
   "metadata": {},
   "outputs": [],
   "source": []
  },
  {
   "cell_type": "code",
   "execution_count": 97,
   "metadata": {},
   "outputs": [
    {
     "data": {
      "text/plain": [
       "<matplotlib.collections.PathCollection at 0x2bbfae628b0>"
      ]
     },
     "execution_count": 97,
     "metadata": {},
     "output_type": "execute_result"
    },
    {
     "data": {
      "image/png": "[encoded data removed]",
      "text/plain": [
       "<Figure size 432x288 with 2 Axes>"
      ]
     },
     "metadata": {
      "needs_background": "light"
     },
     "output_type": "display_data"
    }
   ],
   "source": [
    "X.plot.scatter(x = 'Latitude', y = 'Longitude', c=labels, s=10, cmap='viridis')\n",
    "plt.scatter(centers[:, 0], centers[:, 1], c='black', s=10, alpha=0.5)"
   ]
  },
  {
   "cell_type": "code",
   "execution_count": null,
   "metadata": {},
   "outputs": [],
   "source": []
  },
  {
   "cell_type": "code",
   "execution_count": null,
   "metadata": {},
   "outputs": [],
   "source": []
  },
  {
   "cell_type": "markdown",
   "metadata": {
    "colab_type": "text",
    "id": "VgT0mANLL4Nz"
   },
   "source": [
    "## Training the K-Means model on the dataset"
   ]
  },
  {
   "cell_type": "code",
   "execution_count": 30,
   "metadata": {
    "colab": {},
    "colab_type": "code",
    "id": "cjEfU6ZSMAPl"
   },
   "outputs": [],
   "source": [
    "kmeans = KMeans(n_clusters = 2, init = 'k-means++', random_state = 42)\n",
    "y_kmeans = kmeans.fit_predict(X)"
   ]
  },
  {
   "cell_type": "markdown",
   "metadata": {
    "colab_type": "text",
    "id": "e7YrS1JAMFnm"
   },
   "source": [
    "## Visualising the clusters"
   ]
  },
  {
   "cell_type": "code",
   "execution_count": 37,
   "metadata": {
    "colab": {
     "base_uri": "https://localhost:8080/",
     "height": 295
    },
    "colab_type": "code",
    "executionInfo": {
     "elapsed": 2048,
     "status": "ok",
     "timestamp": 1586372929246,
     "user": {
      "displayName": "Hadelin de Ponteves",
      "photoUrl": "https://lh3.googleusercontent.com/a-/AOh14GhEuXdT7eQweUmRPW8_laJuPggSK6hfvpl5a6WBaA=s64",
      "userId": "15047218817161520419"
     },
     "user_tz": -240
    },
    "id": "d0ZYecccMHNx",
    "outputId": "01079a1c-4593-4c3e-8c0c-47229c27cd84"
   },
   "outputs": [
    {
     "data": {
      "image/png": "[encoded data removed]",
      "text/plain": [
       "<Figure size 432x288 with 1 Axes>"
      ]
     },
     "metadata": {
      "needs_background": "light"
     },
     "output_type": "display_data"
    }
   ],
   "source": [
    "plt.scatter(X[y_kmeans == 0, 0], X[y_kmeans == 0, 1], s = 1, c = 'red', label = 'Cluster 1')\n",
    "plt.scatter(X[y_kmeans == 1, 0], X[y_kmeans == 1, 1], s = 1, c = 'blue', label = 'Cluster 2')\n",
    "plt.scatter(kmeans.cluster_centers_[:, 0], kmeans.cluster_centers_[:, 1], s = 1, c = 'yellow', label = 'Centroids')\n",
    "plt.title('Clusters of customers')\n",
    "plt.xlabel('Size')\n",
    "plt.ylabel('Rent')\n",
    "plt.legend()\n",
    "plt.show()"
   ]
  },
  {
   "cell_type": "code",
   "execution_count": null,
   "metadata": {},
   "outputs": [],
   "source": []
  }
 ],
 "metadata": {
  "colab": {
   "authorship_tag": "ABX9TyN979dFKn9B6Ro9v0hJ4uqU",
   "name": "K-Means Clustering",
   "provenance": [],
   "toc_visible": true
  },
  "kernelspec": {
   "display_name": "Python 3",
   "language": "python",
   "name": "python3"
  },
  "language_info": {
   "codemirror_mode": {
    "name": "ipython",
    "version": 3
   },
   "file_extension": ".py",
   "mimetype": "text/x-python",
   "name": "python",
   "nbconvert_exporter": "python",
   "pygments_lexer": "ipython3",
   "version": "3.8.3"
  }
 },
 "nbformat": 4,
 "nbformat_minor": 1
}
